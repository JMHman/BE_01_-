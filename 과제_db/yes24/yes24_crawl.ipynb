{
 "cells": [
  {
   "cell_type": "markdown",
   "metadata": {},
   "source": [
    "### yes24 Crawling / 예스24 크롤링"
   ]
  },
  {
   "cell_type": "code",
   "execution_count": 1,
   "metadata": {},
   "outputs": [
    {
     "data": {
      "text/plain": [
       "'/Users/jeonmh/.wdm/drivers/chromedriver/mac64/120.0.6099.109/chromedriver-mac-arm64/chromedriver'"
      ]
     },
     "execution_count": 1,
     "metadata": {},
     "output_type": "execute_result"
    }
   ],
   "source": [
    "# webdriver_manager 라이브러리 불러오기\n",
    "from webdriver_manager.chrome import ChromeDriverManager\n",
    "ChromeDriverManager().install()"
   ]
  },
  {
   "cell_type": "code",
   "execution_count": 7,
   "metadata": {},
   "outputs": [],
   "source": [
    "from selenium import webdriver\n",
    "browser = webdriver.Chrome()"
   ]
  },
  {
   "cell_type": "code",
   "execution_count": 14,
   "metadata": {},
   "outputs": [],
   "source": [
    "url = 'https://google.com'\n",
    "browser.get(url)"
   ]
  },
  {
   "cell_type": "code",
   "execution_count": 15,
   "metadata": {},
   "outputs": [
    {
     "data": {
      "text/plain": [
       "'대한민국'"
      ]
     },
     "execution_count": 15,
     "metadata": {},
     "output_type": "execute_result"
    }
   ],
   "source": [
    "from selenium.webdriver.common.by import By\n",
    "browser.find_element(By.CLASS_NAME, 'uU7dJb').text"
   ]
  },
  {
   "cell_type": "code",
   "execution_count": 16,
   "metadata": {},
   "outputs": [],
   "source": [
    "url = 'https://www.yes24.com/Product/Category/BestSeller?categoryNumber=001&pageNumber=3&pageSize=24'\n",
    "browser.get(url)\n"
   ]
  },
  {
   "cell_type": "code",
   "execution_count": 17,
   "metadata": {},
   "outputs": [
    {
     "name": "stdout",
     "output_type": "stream",
     "text": [
      "https://www.yes24.com/Product/Goods/90428162\n",
      "https://www.yes24.com/Product/Goods/123814844\n",
      "https://www.yes24.com/Product/Goods/123318244\n",
      "https://www.yes24.com/Product/Goods/122865851\n",
      "https://www.yes24.com/Product/Goods/122786183\n",
      "https://www.yes24.com/Product/Goods/122433629\n",
      "https://www.yes24.com/Product/Goods/124225344\n",
      "https://www.yes24.com/Product/Goods/124315515\n",
      "https://www.yes24.com/Product/Goods/9349031\n",
      "https://www.yes24.com/Product/Goods/124472702\n",
      "https://www.yes24.com/Product/Goods/121911671\n",
      "https://www.yes24.com/Product/Goods/122880691\n",
      "https://www.yes24.com/Product/Goods/8759796\n",
      "https://www.yes24.com/Product/Goods/123153430\n",
      "https://www.yes24.com/Product/Goods/124106975\n",
      "https://www.yes24.com/Product/Goods/16384156\n",
      "https://www.yes24.com/Product/Goods/96794060\n",
      "https://www.yes24.com/Product/Goods/69655504\n",
      "https://www.yes24.com/Product/Goods/116020437\n",
      "https://www.yes24.com/Product/Goods/106369008\n",
      "https://www.yes24.com/Product/Goods/124411457\n",
      "https://www.yes24.com/Product/Goods/106711883\n",
      "https://www.yes24.com/Product/Goods/115475489\n",
      "https://www.yes24.com/Product/Goods/123899667\n"
     ]
    }
   ],
   "source": [
    "# 1페이지의 링크 데이터 전부 수집\n",
    "### 한개의 베스트 셀러 링크 수집\n",
    "browser.find_element(By.CLASS_NAME, 'gd_name').get_attribute('href')\n",
    "\n",
    "### 1페이지의 전체의 링크 데이터 전부 수집\n",
    "datas = browser.find_elements(By.CLASS_NAME, 'gd_name')\n",
    "##### element : 요소 / elements : 리스트\n",
    "\n",
    "for i in datas:\n",
    "    print(i.get_attribute('href'))\n",
    "\n",
    "# <a class=\"gd_name\" href=\"/Product/Goods/122120495\" onclick=\"wiseLogV2('BS', '001_005_001', ''); \">마흔에 읽는 쇼펜하우어</a>\n",
    "# <a class=\"gd_name\" href=\"/Product/Goods/117014613\" onclick=\"wiseLogV2('BS', '001_005_001', ''); \">세이노의 가르침</a>\n"
   ]
  },
  {
   "cell_type": "code",
   "execution_count": 62,
   "metadata": {},
   "outputs": [
    {
     "name": "stdout",
     "output_type": "stream",
     "text": [
      "*** 현재 1 페이지 수집 중 입니다. ***\n",
      "*** 현재 2 페이지 수집 중 입니다. ***\n",
      "*** 현재 3 페이지 수집 중 입니다. ***\n"
     ]
    }
   ],
   "source": [
    "# 3페이지까지의 링크 데이터 전부 수집\n",
    "import time\n",
    "\n",
    "link_list = []\n",
    "for i in range(1, 4):\n",
    "    print('*'*3,f'현재 {i} 페이지 수집 중 입니다.','*'*3)\n",
    "    url = f'https://www.yes24.com/Product/Category/BestSeller?categoryNumber=001&pageNumber={i}&pageSize=24'\n",
    "\n",
    "    browser.get(url)\n",
    "    datas = browser.find_elements(By.CLASS_NAME, 'gd_name')\n",
    "    \n",
    "    for a in datas:\n",
    "        link = a.get_attribute('href')\n",
    "        link_list.append(link)\n",
    "\n",
    "    time.sleep(3)\n",
    "    "
   ]
  },
  {
   "cell_type": "code",
   "execution_count": 19,
   "metadata": {},
   "outputs": [
    {
     "data": {
      "text/plain": [
       "72"
      ]
     },
     "execution_count": 19,
     "metadata": {},
     "output_type": "execute_result"
    }
   ],
   "source": [
    "len(link_list)"
   ]
  },
  {
   "cell_type": "code",
   "execution_count": 46,
   "metadata": {},
   "outputs": [
    {
     "data": {
      "text/plain": [
       "'국내도서 top20 3주'"
      ]
     },
     "execution_count": 46,
     "metadata": {},
     "output_type": "execute_result"
    }
   ],
   "source": [
    "# # 상세 페이지로 이동\n",
    "# # for link in link_list:\n",
    "# #     browser.get(link)\n",
    "\n",
    "# browser.get(link_list[0])\n",
    "\n",
    "# # 제목\n",
    "# title = browser.find_element(By.CLASS_NAME, 'gd_name').text\n",
    "\n",
    "# # 저자\n",
    "# auth = browser.find_element(By.CLASS_NAME, 'gd_auth').text\n",
    "\n",
    "# # 출판사\n",
    "# publisher = browser.find_element(By.CLASS_NAME, 'gd_pub').text\n",
    "\n",
    "# # 출간일자 2024-01-01 식으로 변경\n",
    "# publishing = browser.find_element(By.CLASS_NAME, 'gd_date').text\n",
    "\n",
    "# # 평점\n",
    "# reting = browser.find_element(By.CLASS_NAME, 'yes_b').text\n",
    "\n",
    "# # 리뷰\n",
    "# review = browser.find_element(By.CLASS_NAME, 'txC_blue').text\n",
    "\n",
    "# # 판매지수\n",
    "# sales = browser.find_element(By.CLASS_NAME, 'gd_sellNum').text.split(' ')[2]\n",
    "\n",
    "# # 판매가\n",
    "# price = browser.find_element(By.CLASS_NAME, 'yes_m').text[:-1]\n",
    "\n",
    "# # 국내랭킹\n",
    "# ranking = browser.find_element(By.CLASS_NAME, 'gd_best ,gd_best_tp02').find_element(By.TAG_NAME, 'a').text\n",
    "\n",
    "# # 국내랭킹 진척도\n",
    "# if browser.find_element(By.CLASS_NAME, 'gd_best,gd_best_tp02').text.count('|') == 1:\n",
    "#     ranking_weeks = browser.find_element(By.CLASS_NAME, 'gd_best,gd_best_tp02').find_element(By.TAG_NAME, 'dd').text.split(' | ')[1]\n",
    "# else:\n",
    "#     pass\n"
   ]
  },
  {
   "cell_type": "code",
   "execution_count": 61,
   "metadata": {},
   "outputs": [],
   "source": [
    "# 데이터 베이스 연동 후 -> 수집한 데이터를 DB에 저정 (CSV)\n",
    "import pymysql\n",
    "import time\n",
    "import re\n",
    "from datetime import datetime\n",
    "\n",
    "conn = pymysql.connect(\n",
    "    host = 'localhost',\n",
    "    user = 'root',\n",
    "    password = '4887',\n",
    "    db = 'yes24s',\n",
    "    charset = 'utf8mb4',\n",
    "    cursorclass = pymysql.cursors.DictCursor\n",
    ")\n",
    "\n",
    "with conn.cursor() as cur:\n",
    "\n",
    "    for i in link_list:\n",
    "        browser.get(i)\n",
    "\n",
    "        # 상세 페이지 이동 후 데이터 크롤링\n",
    "        title = browser.find_element(By.CLASS_NAME, 'gd_name').text\n",
    "        author = browser.find_element(By.CLASS_NAME, 'gd_auth').text\n",
    "        publisher = browser.find_element(By.CLASS_NAME, 'gd_pub').text\n",
    "        publishing = browser.find_element(By.CLASS_NAME, 'gd_date').text\n",
    "        match = re.search(r'(\\d+)년 (\\d+)월 (\\d+)일', publishing)\n",
    "        if match:\n",
    "            year,month, day = match.groups()\n",
    "            data_obj = datetime(int(year), int(month), int(day))\n",
    "            publishing = data_obj.strftime('%Y-%m-%d')\n",
    "        else:\n",
    "            publishing = '2024-01-01'\n",
    "        if rating:\n",
    "            reting = browser.find_element(By.CLASS_NAME, 'yes_b').text\n",
    "            review= browser.find_element(By.CLASS_NAME, 'txC_blue').text\n",
    "            review = int(review.replace(\",\",\"\"))\n",
    "        else:\n",
    "            rating = None\n",
    "            review = None\n",
    "        sales = browser.find_element(By.CLASS_NAME, 'gd_sellNum').text.split(' ')[2]\n",
    "        sales = int(sales.replace(\",\",\"\"))\n",
    "        price = browser.find_element(By.CLASS_NAME, 'yes_m').text[:-1]\n",
    "        price = int(price.replace(\",\",\"\"))\n",
    "        ranking = browser.find_element(By.CLASS_NAME, 'gd_best ,gd_best_tp02').find_element(By.TAG_NAME, 'a').text.split(' ')[1][:-1]\n",
    "        if browser.find_element(By.CLASS_NAME, 'gd_best,gd_best_tp02').text.count('|') == 1:\n",
    "            ranking_weeks = browser.find_element(By.CLASS_NAME, 'gd_best,gd_best_tp02').find_element(By.TAG_NAME, 'dd').text.split(' | ')[1][-3:-1]\n",
    "        else:\n",
    "            ranking_weeks = None\n",
    "\n",
    "\n",
    "        sql = \"\"\"INSERT INTO Books(\n",
    "            title, author, publisher, publishing, rating, review, sales, price, ranking, ranking_weeks\n",
    "            )\n",
    "            VALUES (\n",
    "            %s, %s, %s, %s, %s, %s, %s, %s, %s, %s\n",
    "            )\n",
    "            \"\"\"\n",
    "\n",
    "        cur.execute(sql, (title, author, publisher, publishing, rating, review, sales, price, ranking, ranking_weeks))\n",
    "        conn.commit()\n",
    "\n",
    "        time.sleep(3)"
   ]
  },
  {
   "cell_type": "code",
   "execution_count": null,
   "metadata": {},
   "outputs": [],
   "source": [
    "import pymysql\n",
    "import time\n",
    "import re\n",
    "from datetime import datetime\n",
    "\n",
    "conn = pymysql.connect(\n",
    "    host = 'localhost',\n",
    "    user = 'root',\n",
    "    password = '4887',\n",
    "    db = 'yes24s',\n",
    "    charset = 'utf8mb4',\n",
    "    cursorclass = pymysql.cursors.DictCursor\n",
    ")\n",
    "\n",
    "with conn.cursor() as cur:\n",
    "    for i in link_list:\n",
    "        browser.get(i)\n",
    "        \n",
    "        title = browser.find_element(By.CLASS_NAME, 'gd_name').text\n",
    "        if browser.find_element(By.CLASS_NAME, 'yes_b').text :\n",
    "            rating = browser.find_element(By.CLASS_NAME, 'yes_b').text\n",
    "            review = browser.find_element(By.CLASS_NAME, 'gd_reviewCount').find_element(By.TAG_NAME, 'em').text\n",
    "            review = int(review.replace(\",\",\"\"))\n",
    "        \n",
    "        sql = \"\"\"UPDATE Books SET rating = %s, review = %s WHERE title = %s\"\"\"\n",
    "\n",
    "        cur.execute(sql, (rating, review,title))\n",
    "        conn.commit()\n",
    "        time.sleep(3)"
   ]
  },
  {
   "cell_type": "code",
   "execution_count": 101,
   "metadata": {},
   "outputs": [
    {
     "data": {
      "text/plain": [
       "('흔한남매 과학 탐험대 0 과학의 기초',\n",
       " '흔한남매 원저/김언정, 이현진 글/김덕영 그림/최진수 감수 외 4명 정보 더 보기/감추기',\n",
       " '주니어김영사',\n",
       " '2023-12-27',\n",
       " '9.7',\n",
       " 27,\n",
       " 86709,\n",
       " 14800,\n",
       " '39',\n",
       " None)"
      ]
     },
     "execution_count": 101,
     "metadata": {},
     "output_type": "execute_result"
    }
   ],
   "source": [
    "# 오류 확인용 코드들\n",
    "import re\n",
    "# 상세 페이지 이동 후 데이터 크롤링\n",
    "browser.get(link_list[38])\n",
    "\n",
    "title = browser.find_element(By.CLASS_NAME, 'gd_name').text\n",
    "auth = browser.find_element(By.CLASS_NAME, 'gd_auth').text\n",
    "publisher = browser.find_element(By.CLASS_NAME, 'gd_pub').text\n",
    "publishing = browser.find_element(By.CLASS_NAME, 'gd_date').text\n",
    "match = re.search(r'(\\d+)년 (\\d+)월 (\\d+)일', publishing)\n",
    "if match:\n",
    "    year,month, day = match.groups()\n",
    "    data_obj = datetime(int(year), int(month), int(day))\n",
    "    publishing = data_obj.strftime('%Y-%m-%d')\n",
    "else:\n",
    "    publishing = '2024-01-01'\n",
    "if browser.find_element(By.CLASS_NAME, 'yes_b').text :\n",
    "    rating = browser.find_element(By.CLASS_NAME, 'yes_b').text\n",
    "    review = browser.find_element(By.CLASS_NAME, 'gd_reviewCount').find_element(By.TAG_NAME, 'em').text\n",
    "    review = int(review.replace(\",\",\"\"))\n",
    "    # if browser.find_element(By.CLASS_NAME, 'gd_reviewCount').text.split(' ')[-2].isdigit  == True:\n",
    "    #     review = browser.find_element(By.CLASS_NAME, 'gd_reviewCount').text.split(' ')[-1]\n",
    "    # else:\n",
    "    #     review = None\n",
    "else:\n",
    "    rating = None\n",
    "    review = None\n",
    "\n",
    "sales = browser.find_element(By.CLASS_NAME, 'gd_sellNum').text.split(' ')[2]\n",
    "sales = int(sales.replace(\",\",\"\"))\n",
    "price = browser.find_element(By.CLASS_NAME, 'yes_m').text[:-1]\n",
    "price = int(price.replace(\",\",\"\"))\n",
    "ranking = browser.find_element(By.CLASS_NAME, 'gd_best ,gd_best_tp02').find_element(By.TAG_NAME, 'a').text.split(' ')[1][:-1]\n",
    "if browser.find_element(By.CLASS_NAME, 'gd_best,gd_best_tp02').text.count('|') == 1:\n",
    "    ranking_weeks = browser.find_element(By.CLASS_NAME, 'gd_best,gd_best_tp02').find_element(By.TAG_NAME, 'dd').text.split(' | ')[1][-3:-1]\n",
    "else:\n",
    "    ranking_weeks = None\n",
    "\n",
    "title, auth, publisher, publishing, rating, review, sales, price, ranking, ranking_weeks\n",
    "# ranking"
   ]
  }
 ],
 "metadata": {
  "kernelspec": {
   "display_name": "Python 3",
   "language": "python",
   "name": "python3"
  },
  "language_info": {
   "codemirror_mode": {
    "name": "ipython",
    "version": 3
   },
   "file_extension": ".py",
   "mimetype": "text/x-python",
   "name": "python",
   "nbconvert_exporter": "python",
   "pygments_lexer": "ipython3",
   "version": "3.10.6"
  }
 },
 "nbformat": 4,
 "nbformat_minor": 2
}
