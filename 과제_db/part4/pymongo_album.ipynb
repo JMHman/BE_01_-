{
 "cells": [
  {
   "cell_type": "markdown",
   "metadata": {},
   "source": [
    "# MongoDB 연결 설정\n"
   ]
  },
  {
   "cell_type": "code",
   "execution_count": 7,
   "metadata": {},
   "outputs": [
    {
     "data": {
      "text/plain": [
       "Database(MongoClient(host=['localhost:27017'], document_class=dict, tz_aware=False, connect=True), 'json_test')"
      ]
     },
     "execution_count": 7,
     "metadata": {},
     "output_type": "execute_result"
    }
   ],
   "source": [
    "from pymongo import MongoClient\n",
    "\n",
    "# MongoDB 연결 설정\n",
    "client = MongoClient('mongodb://localhost:27017/test_db')\n",
    "db = client['json_test']\n",
    "db\n"
   ]
  },
  {
   "cell_type": "code",
   "execution_count": 4,
   "metadata": {},
   "outputs": [
    {
     "name": "stdout",
     "output_type": "stream",
     "text": [
      "{'_id': ObjectId('65a78f41940d8752a6ab9c71'), '앨범': 'The White Stripes', '연도': '1999'}\n",
      "{'_id': ObjectId('65a78f41940d8752a6ab9c72'), '앨범': 'De Stijl', '연도': '2000'}\n",
      "{'_id': ObjectId('65a78f41940d8752a6ab9c73'), '앨범': 'White Blood Cells', '연도': '2001'}\n",
      "{'_id': ObjectId('65a78f41940d8752a6ab9c74'), '앨범': 'Elephant', '연도': '2003'}\n",
      "{'_id': ObjectId('65a78f41940d8752a6ab9c75'), '앨범': 'Get Behind Me Satan', '연도': '2005'}\n",
      "{'_id': ObjectId('65a78f41940d8752a6ab9c76'), '앨범': 'Icky Thump', '연도': '2007'}\n",
      "{'_id': ObjectId('65a78f41940d8752a6ab9c77'), '앨범': 'Under Great White Northern Lights', '연도': '2010'}\n",
      "{'_id': ObjectId('65a78f41940d8752a6ab9c78'), '앨범': 'Live in Mississippi', '연도': '2011'}\n",
      "{'_id': ObjectId('65a78f41940d8752a6ab9c79'), '앨범': 'Live at the Gold Dollar', '연도': '2012'}\n",
      "{'_id': ObjectId('65a78f41940d8752a6ab9c7a'), '앨범': 'Nine Miles from the White City', '연도': '2013'}\n"
     ]
    }
   ],
   "source": [
    "# 앨범 목록 조회\n",
    "for album in db.albums.find({}, {'앨범': 1, '연도': 1}):\n",
    "    print(album)"
   ]
  },
  {
   "cell_type": "code",
   "execution_count": 5,
   "metadata": {},
   "outputs": [
    {
     "name": "stdout",
     "output_type": "stream",
     "text": [
      "{'_id': ObjectId('65a78f41940d8752a6ab9c72'), '앨범': 'De Stijl', '연도': '2000', '최고순위': '-'}\n"
     ]
    }
   ],
   "source": [
    "# 2000년 발매 앨범 조회\n",
    "for album in db.albums.find({'연도': '2000'}):\n",
    "    print(album)"
   ]
  },
  {
   "cell_type": "markdown",
   "metadata": {},
   "source": [
    " 최고순위는 '-' 를 포함 하기 위해 문자열로 생성되서 lt,lte,gt,gte 등 숫자를 이용하는 문법은 사용이안됨"
   ]
  },
  {
   "cell_type": "code",
   "execution_count": 8,
   "metadata": {},
   "outputs": [],
   "source": [
    "# 차트 최고 순위 10위 이내 앨범 조회\n",
    "for album in db.albums.find({'최고순위': {'$lte': 10}}):\n",
    "    print(album)\n"
   ]
  },
  {
   "cell_type": "code",
   "execution_count": 9,
   "metadata": {},
   "outputs": [
    {
     "name": "stdout",
     "output_type": "stream",
     "text": [
      "{'_id': '2010', 'count': 1}\n",
      "{'_id': '2005', 'count': 1}\n",
      "{'_id': '2013', 'count': 1}\n",
      "{'_id': '2000', 'count': 1}\n",
      "{'_id': '2007', 'count': 1}\n",
      "{'_id': '2003', 'count': 1}\n",
      "{'_id': '2011', 'count': 1}\n",
      "{'_id': '2012', 'count': 1}\n",
      "{'_id': '2001', 'count': 1}\n",
      "{'_id': '1999', 'count': 1}\n"
     ]
    }
   ],
   "source": [
    "# 연도별 앨범 수 조회\n",
    "for count in db.albums.aggregate([{'$group': {'_id': \"$연도\", 'count': {'$sum': 1}}}]):\n",
    "    print(count)"
   ]
  },
  {
   "cell_type": "code",
   "execution_count": 10,
   "metadata": {},
   "outputs": [
    {
     "name": "stdout",
     "output_type": "stream",
     "text": [
      "{'_id': ObjectId('65a78f41940d8752a6ab9c7a'), '앨범': 'Nine Miles from the White City', '연도': '2013', '최고순위': '-'}\n"
     ]
    }
   ],
   "source": [
    "# 가장 최신 앨범 조회\n",
    "print(db.albums.find().sort('연도', -1).limit(1)[0])"
   ]
  },
  {
   "cell_type": "code",
   "execution_count": 11,
   "metadata": {},
   "outputs": [
    {
     "name": "stdout",
     "output_type": "stream",
     "text": [
      "{'_id': ObjectId('65a78f41940d8752a6ab9c71'), '앨범': 'The White Stripes', '연도': '1999', '최고순위': '-'}\n"
     ]
    }
   ],
   "source": [
    "# 가장 오래된 앨범 조회\n",
    "print(db.albums.find().sort('연도', 1).limit(1)[0])"
   ]
  },
  {
   "cell_type": "markdown",
   "metadata": {},
   "source": [
    "# CRUD 연습 문제"
   ]
  },
  {
   "cell_type": "code",
   "execution_count": 12,
   "metadata": {},
   "outputs": [
    {
     "data": {
      "text/plain": [
       "InsertOneResult(ObjectId('65a79668d1ec208263d5af92'), acknowledged=True)"
      ]
     },
     "execution_count": 12,
     "metadata": {},
     "output_type": "execute_result"
    }
   ],
   "source": [
    "\n",
    "# 새 앨범 추가\n",
    "db.albums.insert_one({'앨범': 'New Album', '연도': '2024', '최고순위': '1'})\n"
   ]
  },
  {
   "cell_type": "code",
   "execution_count": 13,
   "metadata": {},
   "outputs": [
    {
     "data": {
      "text/plain": [
       "UpdateResult({'n': 1, 'nModified': 1, 'ok': 1.0, 'updatedExisting': True}, acknowledged=True)"
      ]
     },
     "execution_count": 13,
     "metadata": {},
     "output_type": "execute_result"
    }
   ],
   "source": [
    "# 앨범 정보 업데이트\n",
    "db.albums.update_one({'앨범': 'New Album'}, {'$set': {'최고순위': '2'}})\n"
   ]
  },
  {
   "cell_type": "code",
   "execution_count": 14,
   "metadata": {},
   "outputs": [
    {
     "data": {
      "text/plain": [
       "DeleteResult({'n': 1, 'ok': 1.0}, acknowledged=True)"
      ]
     },
     "execution_count": 14,
     "metadata": {},
     "output_type": "execute_result"
    }
   ],
   "source": [
    "# 특정 앨범 삭제\n",
    "db.albums.delete_one({'앨범': 'New Album'})"
   ]
  }
 ],
 "metadata": {
  "kernelspec": {
   "display_name": "Python 3",
   "language": "python",
   "name": "python3"
  },
  "language_info": {
   "codemirror_mode": {
    "name": "ipython",
    "version": 3
   },
   "file_extension": ".py",
   "mimetype": "text/x-python",
   "name": "python",
   "nbconvert_exporter": "python",
   "pygments_lexer": "ipython3",
   "version": "3.10.6"
  }
 },
 "nbformat": 4,
 "nbformat_minor": 2
}
