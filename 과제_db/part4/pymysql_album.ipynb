{
 "cells": [
  {
   "cell_type": "markdown",
   "metadata": {},
   "source": [
    "# 목록 조회"
   ]
  },
  {
   "cell_type": "code",
   "execution_count": null,
   "metadata": {},
   "outputs": [],
   "source": [
    "import pymysql\n",
    "\n",
    "# 데이터베이스 연결 설정\n",
    "connection = pymysql.connect(host='your_host', user='your_username', password='your_password', db='your_dbname')\n",
    "\n",
    "try:\n",
    "    with connection.cursor() as cursor:\n",
    "        # 앨범 목록 조회\n",
    "        query = \"SELECT 앨범, 연도 FROM albums;\"\n",
    "        cursor.execute(query)\n",
    "        # 결과 출력\n",
    "        for row in cursor.fetchall():\n",
    "            print(row)\n",
    "finally:\n",
    "    connection.close()"
   ]
  },
  {
   "cell_type": "markdown",
   "metadata": {},
   "source": [
    "# 새 앨범 추가"
   ]
  },
  {
   "cell_type": "code",
   "execution_count": null,
   "metadata": {},
   "outputs": [],
   "source": [
    "import pymysql\n",
    "\n",
    "# 데이터베이스 연결 설정\n",
    "connection = pymysql.connect(host='your_host', user='your_username', password='your_password', db='your_dbname')\n",
    "\n",
    "try:\n",
    "    with connection.cursor() as cursor:\n",
    "        # 새 앨범 추가\n",
    "        query = \"INSERT INTO albums (앨범, 연도, 최고순위) VALUES ('New Album', '2024', '1');\"\n",
    "        cursor.execute(query)\n",
    "        connection.commit()\n",
    "finally:\n",
    "    connection.close()"
   ]
  },
  {
   "cell_type": "markdown",
   "metadata": {},
   "source": [
    "# 정보 업데이트"
   ]
  },
  {
   "cell_type": "code",
   "execution_count": null,
   "metadata": {},
   "outputs": [],
   "source": [
    "import pymysql\n",
    "\n",
    "# 데이터베이스 연결 설정\n",
    "connection = pymysql.connect(host='your_host', user='your_username', password='your_password', db='your_dbname')\n",
    "\n",
    "try:\n",
    "    with connection.cursor() as cursor:\n",
    "        # 앨범 정보 업데이트\n",
    "        query = \"UPDATE albums SET 최고순위 = '2' WHERE 앨범 = 'New Album';\"\n",
    "        cursor.execute(query)\n",
    "        connection.commit()\n",
    "finally:\n",
    "    connection.close()"
   ]
  },
  {
   "cell_type": "markdown",
   "metadata": {},
   "source": [
    "# 앨범 삭제"
   ]
  },
  {
   "cell_type": "code",
   "execution_count": null,
   "metadata": {},
   "outputs": [],
   "source": [
    "import pymysql\n",
    "\n",
    "# 데이터베이스 연결 설정\n",
    "connection = pymysql.connect(host='your_host', user='your_username', password='your_password', db='your_dbname')\n",
    "\n",
    "try:\n",
    "    with connection.cursor() as cursor:\n",
    "        # 특정 앨범 삭제\n",
    "        query = \"DELETE FROM albums WHERE 앨범 = 'New Album';\"\n",
    "        cursor.execute(query)\n",
    "        connection.commit()\n",
    "finally:\n",
    "    connection.close()"
   ]
  }
 ],
 "metadata": {
  "language_info": {
   "name": "python"
  }
 },
 "nbformat": 4,
 "nbformat_minor": 2
}
